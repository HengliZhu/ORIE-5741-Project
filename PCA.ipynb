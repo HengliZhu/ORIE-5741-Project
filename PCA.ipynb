{
  "cells": [
    {
      "cell_type": "markdown",
      "metadata": {
        "id": "eBtAH-QDOKGm"
      },
      "source": [
        "## HW10: SVD vs. AM\n",
        "\n",
        "In class, you learned about two ways of solving PCA. Let's compare them. The data you will use is from part (h) of the airbnb homework."
      ]
    },
    {
      "cell_type": "code",
      "execution_count": 2,
      "metadata": {
        "id": "2D5r1IUOOKGp"
      },
      "outputs": [],
      "source": [
        "import numpy as np\n",
        "import pandas as pd\n",
        "import matplotlib.pyplot as plt"
      ]
    },
    {
      "cell_type": "markdown",
      "metadata": {
        "id": "4QUFx0BaOKGq"
      },
      "source": [
        "Download 'airbnb_hw4.csv' from Canvas. 'airbnb_hw4.csv' contains the full dataset we will use throughout this assignment (Y_full). Because it is big, we will start by only looking at the first third of the data (Y)."
      ]
    },
    {
      "cell_type": "code",
      "execution_count": 3,
      "metadata": {
        "id": "dqdvPuuUOKGq"
      },
      "outputs": [],
      "source": [
        "# data\n",
        "Y_full = pd.read_csv('airbnb_hw4.csv', header=None)\n",
        "n_full, d = Y_full.shape\n",
        "Y = Y_full.iloc[0:n_full//3]\n",
        "\n",
        "Y = Y.to_numpy()\n",
        "Y_full = Y_full.to_numpy()"
      ]
    },
    {
      "cell_type": "markdown",
      "metadata": {
        "id": "OoSaF-ztOKGr"
      },
      "source": [
        "#### a) Top-k SVD and residual error.\n",
        "For the airbnb data and for $k = 1,2,...,10$, compute the top-k SVD\n",
        "$U_k \\Sigma_k V_k^T$\n",
        "and the residual error\n",
        "$||Y - U_k \\Sigma_k V_k^T||.$"
      ]
    },
    {
      "cell_type": "code",
      "execution_count": 4,
      "metadata": {
        "colab": {
          "base_uri": "https://localhost:8080/"
        },
        "id": "RI6dCV4eOKGr",
        "outputId": "f259ff04-5ab0-4a83-876e-a71aab1c4662"
      },
      "outputs": [
        {
          "output_type": "stream",
          "name": "stdout",
          "text": [
            "k = 1\n",
            "U = [[-0.00049659]\n",
            " [-0.01652497]\n",
            " [-0.00481081]\n",
            " ...\n",
            " [-0.01639274]\n",
            " [-0.01640954]\n",
            " [-0.00049569]]\n",
            "Sigma = [[69094.09707068]]\n",
            "VT = [[-7.22077170e-04 -7.22077170e-04 -6.23523160e-04 ...  1.21839398e-05\n",
            "   4.41303884e-06 -2.19135044e-04]]\n",
            "Residual Error = 11774.831410138786\n",
            "k = 2\n",
            "U = [[-0.00049659 -0.04193492]\n",
            " [-0.01652497 -0.04423822]\n",
            " [-0.00481081 -0.0891971 ]\n",
            " ...\n",
            " [-0.01639274 -0.0113248 ]\n",
            " [-0.01640954 -0.01663181]\n",
            " [-0.00049569 -0.03260267]]\n",
            "Sigma = [[69094.09707068     0.        ]\n",
            " [    0.          9432.21975333]]\n",
            "VT = [[-7.22077170e-04 -7.22077170e-04 -6.23523160e-04 ...  1.21839398e-05\n",
            "   4.41303884e-06 -2.19135044e-04]\n",
            " [-9.65771965e-03 -9.65771965e-03 -9.48932626e-03 ...  1.36375124e-04\n",
            "   2.08517853e-05 -2.94825171e-03]]\n",
            "Residual Error = 7048.395935388465\n",
            "k = 3\n",
            "U = [[-0.00049659 -0.04193492 -0.05745645]\n",
            " [-0.01652497 -0.04423822 -0.04674086]\n",
            " [-0.00481081 -0.0891971  -0.07113584]\n",
            " ...\n",
            " [-0.01639274 -0.0113248   0.01825093]\n",
            " [-0.01640954 -0.01663181  0.00807352]\n",
            " [-0.00049569 -0.03260267 -0.00892257]]\n",
            "Sigma = [[69094.09707068     0.             0.        ]\n",
            " [    0.          9432.21975333     0.        ]\n",
            " [    0.             0.          5853.94668182]]\n",
            "VT = [[-7.22077170e-04 -7.22077170e-04 -6.23523160e-04 ...  1.21839398e-05\n",
            "   4.41303884e-06 -2.19135044e-04]\n",
            " [-9.65771965e-03 -9.65771965e-03 -9.48932626e-03 ...  1.36375124e-04\n",
            "   2.08517853e-05 -2.94825171e-03]\n",
            " [ 1.24432335e-02  1.24432335e-02  2.18059505e-03 ... -5.92644115e-05\n",
            "  -2.24902973e-05  1.06765926e-03]]\n",
            "Residual Error = 3925.7093000333343\n",
            "k = 4\n",
            "U = [[-0.00049659 -0.04193492 -0.05745645  0.01395444]\n",
            " [-0.01652497 -0.04423822 -0.04674086 -0.00015751]\n",
            " [-0.00481081 -0.0891971  -0.07113584 -0.04897165]\n",
            " ...\n",
            " [-0.01639274 -0.0113248   0.01825093  0.03233845]\n",
            " [-0.01640954 -0.01663181  0.00807352  0.00514372]\n",
            " [-0.00049569 -0.03260267 -0.00892257  0.00864391]]\n",
            "Sigma = [[69094.09707068     0.             0.             0.        ]\n",
            " [    0.          9432.21975333     0.             0.        ]\n",
            " [    0.             0.          5853.94668182     0.        ]\n",
            " [    0.             0.             0.          2596.42966724]]\n",
            "VT = [[-7.22077170e-04 -7.22077170e-04 -6.23523160e-04 ...  1.21839398e-05\n",
            "   4.41303884e-06 -2.19135044e-04]\n",
            " [-9.65771965e-03 -9.65771965e-03 -9.48932626e-03 ...  1.36375124e-04\n",
            "   2.08517853e-05 -2.94825171e-03]\n",
            " [ 1.24432335e-02  1.24432335e-02  2.18059505e-03 ... -5.92644115e-05\n",
            "  -2.24902973e-05  1.06765926e-03]\n",
            " [ 5.55739756e-03  5.55739756e-03  2.21229065e-02 ... -4.58312708e-04\n",
            "  -1.66628017e-04  8.23671802e-03]]\n",
            "Residual Error = 2944.4433245454584\n",
            "k = 5\n",
            "U = [[-0.00049659 -0.04193492 -0.05745645  0.01395444  0.0129442 ]\n",
            " [-0.01652497 -0.04423822 -0.04674086 -0.00015751 -0.02010872]\n",
            " [-0.00481081 -0.0891971  -0.07113584 -0.04897165  0.00727771]\n",
            " ...\n",
            " [-0.01639274 -0.0113248   0.01825093  0.03233845 -0.03977451]\n",
            " [-0.01640954 -0.01663181  0.00807352  0.00514372  0.01030147]\n",
            " [-0.00049569 -0.03260267 -0.00892257  0.00864391  0.05320729]]\n",
            "Sigma = [[69094.09707068     0.             0.             0.\n",
            "      0.        ]\n",
            " [    0.          9432.21975333     0.             0.\n",
            "      0.        ]\n",
            " [    0.             0.          5853.94668182     0.\n",
            "      0.        ]\n",
            " [    0.             0.             0.          2596.42966724\n",
            "      0.        ]\n",
            " [    0.             0.             0.             0.\n",
            "   1629.56163766]]\n",
            "VT = [[-7.22077170e-04 -7.22077170e-04 -6.23523160e-04 ...  1.21839398e-05\n",
            "   4.41303884e-06 -2.19135044e-04]\n",
            " [-9.65771965e-03 -9.65771965e-03 -9.48932626e-03 ...  1.36375124e-04\n",
            "   2.08517853e-05 -2.94825171e-03]\n",
            " [ 1.24432335e-02  1.24432335e-02  2.18059505e-03 ... -5.92644115e-05\n",
            "  -2.24902973e-05  1.06765926e-03]\n",
            " [ 5.55739756e-03  5.55739756e-03  2.21229065e-02 ... -4.58312708e-04\n",
            "  -1.66628017e-04  8.23671802e-03]\n",
            " [-2.59106729e-02 -2.59106729e-02 -5.51298754e-03 ...  1.35810815e-04\n",
            "   1.25558682e-04 -3.82336415e-04]]\n",
            "Residual Error = 2452.40195737044\n",
            "k = 6\n",
            "U = [[-0.00049659 -0.04193492 -0.05745645  0.01395444  0.0129442  -0.01586327]\n",
            " [-0.01652497 -0.04423822 -0.04674086 -0.00015751 -0.02010872 -0.00206348]\n",
            " [-0.00481081 -0.0891971  -0.07113584 -0.04897165  0.00727771 -0.00739092]\n",
            " ...\n",
            " [-0.01639274 -0.0113248   0.01825093  0.03233845 -0.03977451 -0.04764228]\n",
            " [-0.01640954 -0.01663181  0.00807352  0.00514372  0.01030147  0.01761325]\n",
            " [-0.00049569 -0.03260267 -0.00892257  0.00864391  0.05320729  0.00585451]]\n",
            "Sigma = [[69094.09707068     0.             0.             0.\n",
            "      0.             0.        ]\n",
            " [    0.          9432.21975333     0.             0.\n",
            "      0.             0.        ]\n",
            " [    0.             0.          5853.94668182     0.\n",
            "      0.             0.        ]\n",
            " [    0.             0.             0.          2596.42966724\n",
            "      0.             0.        ]\n",
            " [    0.             0.             0.             0.\n",
            "   1629.56163766     0.        ]\n",
            " [    0.             0.             0.             0.\n",
            "      0.          1448.76555463]]\n",
            "VT = [[-7.22077170e-04 -7.22077170e-04 -6.23523160e-04 ...  1.21839398e-05\n",
            "   4.41303884e-06 -2.19135044e-04]\n",
            " [-9.65771965e-03 -9.65771965e-03 -9.48932626e-03 ...  1.36375124e-04\n",
            "   2.08517853e-05 -2.94825171e-03]\n",
            " [ 1.24432335e-02  1.24432335e-02  2.18059505e-03 ... -5.92644115e-05\n",
            "  -2.24902973e-05  1.06765926e-03]\n",
            " [ 5.55739756e-03  5.55739756e-03  2.21229065e-02 ... -4.58312708e-04\n",
            "  -1.66628017e-04  8.23671802e-03]\n",
            " [-2.59106729e-02 -2.59106729e-02 -5.51298754e-03 ...  1.35810815e-04\n",
            "   1.25558682e-04 -3.82336415e-04]\n",
            " [ 3.09999184e-01  3.09999184e-01 -7.85981974e-03 ... -2.61025078e-04\n",
            "  -1.98348067e-04  3.80274335e-03]]\n",
            "Residual Error = 1978.7252786125646\n",
            "k = 7\n",
            "U = [[-0.00049659 -0.04193492 -0.05745645 ...  0.0129442  -0.01586327\n",
            "   0.00973371]\n",
            " [-0.01652497 -0.04423822 -0.04674086 ... -0.02010872 -0.00206348\n",
            "   0.00075608]\n",
            " [-0.00481081 -0.0891971  -0.07113584 ...  0.00727771 -0.00739092\n",
            "   0.00348331]\n",
            " ...\n",
            " [-0.01639274 -0.0113248   0.01825093 ... -0.03977451 -0.04764228\n",
            "   0.02059028]\n",
            " [-0.01640954 -0.01663181  0.00807352 ...  0.01030147  0.01761325\n",
            "  -0.00981787]\n",
            " [-0.00049569 -0.03260267 -0.00892257 ...  0.05320729  0.00585451\n",
            "  -0.00212762]]\n",
            "Sigma = [[69094.09707068     0.             0.             0.\n",
            "      0.             0.             0.        ]\n",
            " [    0.          9432.21975333     0.             0.\n",
            "      0.             0.             0.        ]\n",
            " [    0.             0.          5853.94668182     0.\n",
            "      0.             0.             0.        ]\n",
            " [    0.             0.             0.          2596.42966724\n",
            "      0.             0.             0.        ]\n",
            " [    0.             0.             0.             0.\n",
            "   1629.56163766     0.             0.        ]\n",
            " [    0.             0.             0.             0.\n",
            "      0.          1448.76555463     0.        ]\n",
            " [    0.             0.             0.             0.\n",
            "      0.             0.          1348.34807095]]\n",
            "VT = [[-7.22077170e-04 -7.22077170e-04 -6.23523160e-04 ...  1.21839398e-05\n",
            "   4.41303884e-06 -2.19135044e-04]\n",
            " [-9.65771965e-03 -9.65771965e-03 -9.48932626e-03 ...  1.36375124e-04\n",
            "   2.08517853e-05 -2.94825171e-03]\n",
            " [ 1.24432335e-02  1.24432335e-02  2.18059505e-03 ... -5.92644115e-05\n",
            "  -2.24902973e-05  1.06765926e-03]\n",
            " ...\n",
            " [-2.59106729e-02 -2.59106729e-02 -5.51298754e-03 ...  1.35810815e-04\n",
            "   1.25558682e-04 -3.82336415e-04]\n",
            " [ 3.09999184e-01  3.09999184e-01 -7.85981974e-03 ... -2.61025078e-04\n",
            "  -1.98348067e-04  3.80274335e-03]\n",
            " [ 6.34350529e-01  6.34350529e-01  5.57527581e-03 ...  2.05172102e-04\n",
            "   1.43447799e-04 -2.05149218e-03]]\n",
            "Residual Error = 1448.2096560150158\n",
            "k = 8\n",
            "U = [[-0.00049659 -0.04193492 -0.05745645 ... -0.01586327  0.00973371\n",
            "  -0.00413071]\n",
            " [-0.01652497 -0.04423822 -0.04674086 ... -0.00206348  0.00075608\n",
            "   0.07166168]\n",
            " [-0.00481081 -0.0891971  -0.07113584 ... -0.00739092  0.00348331\n",
            "   0.00804455]\n",
            " ...\n",
            " [-0.01639274 -0.0113248   0.01825093 ... -0.04764228  0.02059028\n",
            "   0.04427385]\n",
            " [-0.01640954 -0.01663181  0.00807352 ...  0.01761325 -0.00981787\n",
            "   0.02588458]\n",
            " [-0.00049569 -0.03260267 -0.00892257 ...  0.00585451 -0.00212762\n",
            "   0.02066873]]\n",
            "Sigma = [[69094.09707068     0.             0.             0.\n",
            "      0.             0.             0.             0.        ]\n",
            " [    0.          9432.21975333     0.             0.\n",
            "      0.             0.             0.             0.        ]\n",
            " [    0.             0.          5853.94668182     0.\n",
            "      0.             0.             0.             0.        ]\n",
            " [    0.             0.             0.          2596.42966724\n",
            "      0.             0.             0.             0.        ]\n",
            " [    0.             0.             0.             0.\n",
            "   1629.56163766     0.             0.             0.        ]\n",
            " [    0.             0.             0.             0.\n",
            "      0.          1448.76555463     0.             0.        ]\n",
            " [    0.             0.             0.             0.\n",
            "      0.             0.          1348.34807095     0.        ]\n",
            " [    0.             0.             0.             0.\n",
            "      0.             0.             0.          1073.74724413]]\n",
            "VT = [[-7.22077170e-04 -7.22077170e-04 -6.23523160e-04 ...  1.21839398e-05\n",
            "   4.41303884e-06 -2.19135044e-04]\n",
            " [-9.65771965e-03 -9.65771965e-03 -9.48932626e-03 ...  1.36375124e-04\n",
            "   2.08517853e-05 -2.94825171e-03]\n",
            " [ 1.24432335e-02  1.24432335e-02  2.18059505e-03 ... -5.92644115e-05\n",
            "  -2.24902973e-05  1.06765926e-03]\n",
            " ...\n",
            " [ 3.09999184e-01  3.09999184e-01 -7.85981974e-03 ... -2.61025078e-04\n",
            "  -1.98348067e-04  3.80274335e-03]\n",
            " [ 6.34350529e-01  6.34350529e-01  5.57527581e-03 ...  2.05172102e-04\n",
            "   1.43447799e-04 -2.05149218e-03]\n",
            " [-8.17269621e-03 -8.17269621e-03 -5.84896903e-03 ...  1.28184261e-04\n",
            "   6.06395143e-05 -1.84761531e-03]]\n",
            "Residual Error = 971.7911624897527\n",
            "k = 9\n",
            "U = [[-0.00049659 -0.04193492 -0.05745645 ...  0.00973371 -0.00413071\n",
            "  -0.03140598]\n",
            " [-0.01652497 -0.04423822 -0.04674086 ...  0.00075608  0.07166168\n",
            "   0.02898387]\n",
            " [-0.00481081 -0.0891971  -0.07113584 ...  0.00348331  0.00804455\n",
            "   0.03245174]\n",
            " ...\n",
            " [-0.01639274 -0.0113248   0.01825093 ...  0.02059028  0.04427385\n",
            "   0.0120703 ]\n",
            " [-0.01640954 -0.01663181  0.00807352 ... -0.00981787  0.02588458\n",
            "  -0.00890071]\n",
            " [-0.00049569 -0.03260267 -0.00892257 ... -0.00212762  0.02066873\n",
            "  -0.01163862]]\n",
            "Sigma = [[69094.09707068     0.             0.             0.\n",
            "      0.             0.             0.             0.\n",
            "      0.        ]\n",
            " [    0.          9432.21975333     0.             0.\n",
            "      0.             0.             0.             0.\n",
            "      0.        ]\n",
            " [    0.             0.          5853.94668182     0.\n",
            "      0.             0.             0.             0.\n",
            "      0.        ]\n",
            " [    0.             0.             0.          2596.42966724\n",
            "      0.             0.             0.             0.\n",
            "      0.        ]\n",
            " [    0.             0.             0.             0.\n",
            "   1629.56163766     0.             0.             0.\n",
            "      0.        ]\n",
            " [    0.             0.             0.             0.\n",
            "      0.          1448.76555463     0.             0.\n",
            "      0.        ]\n",
            " [    0.             0.             0.             0.\n",
            "      0.             0.          1348.34807095     0.\n",
            "      0.        ]\n",
            " [    0.             0.             0.             0.\n",
            "      0.             0.             0.          1073.74724413\n",
            "      0.        ]\n",
            " [    0.             0.             0.             0.\n",
            "      0.             0.             0.             0.\n",
            "    891.18855767]]\n",
            "VT = [[-7.22077170e-04 -7.22077170e-04 -6.23523160e-04 ...  1.21839398e-05\n",
            "   4.41303884e-06 -2.19135044e-04]\n",
            " [-9.65771965e-03 -9.65771965e-03 -9.48932626e-03 ...  1.36375124e-04\n",
            "   2.08517853e-05 -2.94825171e-03]\n",
            " [ 1.24432335e-02  1.24432335e-02  2.18059505e-03 ... -5.92644115e-05\n",
            "  -2.24902973e-05  1.06765926e-03]\n",
            " ...\n",
            " [ 6.34350529e-01  6.34350529e-01  5.57527581e-03 ...  2.05172102e-04\n",
            "   1.43447799e-04 -2.05149218e-03]\n",
            " [-8.17269621e-03 -8.17269621e-03 -5.84896903e-03 ...  1.28184261e-04\n",
            "   6.06395143e-05 -1.84761531e-03]\n",
            " [-1.56263474e-02 -1.56263474e-02  2.54424472e-03 ... -1.18491366e-04\n",
            "  -9.67153521e-05  9.74842113e-04]]\n",
            "Residual Error = 387.5061524266108\n",
            "k = 10\n",
            "U = [[-0.00049659 -0.04193492 -0.05745645 ... -0.00413071 -0.03140598\n",
            "   0.00323872]\n",
            " [-0.01652497 -0.04423822 -0.04674086 ...  0.07166168  0.02898387\n",
            "   0.00327982]\n",
            " [-0.00481081 -0.0891971  -0.07113584 ...  0.00804455  0.03245174\n",
            "  -0.08326127]\n",
            " ...\n",
            " [-0.01639274 -0.0113248   0.01825093 ...  0.04427385  0.0120703\n",
            "   0.01388967]\n",
            " [-0.01640954 -0.01663181  0.00807352 ...  0.02588458 -0.00890071\n",
            "   0.00560614]\n",
            " [-0.00049569 -0.03260267 -0.00892257 ...  0.02066873 -0.01163862\n",
            "  -0.00151718]]\n",
            "Sigma = [[69094.09707068     0.             0.             0.\n",
            "      0.             0.             0.             0.\n",
            "      0.             0.        ]\n",
            " [    0.          9432.21975333     0.             0.\n",
            "      0.             0.             0.             0.\n",
            "      0.             0.        ]\n",
            " [    0.             0.          5853.94668182     0.\n",
            "      0.             0.             0.             0.\n",
            "      0.             0.        ]\n",
            " [    0.             0.             0.          2596.42966724\n",
            "      0.             0.             0.             0.\n",
            "      0.             0.        ]\n",
            " [    0.             0.             0.             0.\n",
            "   1629.56163766     0.             0.             0.\n",
            "      0.             0.        ]\n",
            " [    0.             0.             0.             0.\n",
            "      0.          1448.76555463     0.             0.\n",
            "      0.             0.        ]\n",
            " [    0.             0.             0.             0.\n",
            "      0.             0.          1348.34807095     0.\n",
            "      0.             0.        ]\n",
            " [    0.             0.             0.             0.\n",
            "      0.             0.             0.          1073.74724413\n",
            "      0.             0.        ]\n",
            " [    0.             0.             0.             0.\n",
            "      0.             0.             0.             0.\n",
            "    891.18855767     0.        ]\n",
            " [    0.             0.             0.             0.\n",
            "      0.             0.             0.             0.\n",
            "      0.           267.22136617]]\n",
            "VT = [[-7.22077170e-04 -7.22077170e-04 -6.23523160e-04 ...  1.21839398e-05\n",
            "   4.41303884e-06 -2.19135044e-04]\n",
            " [-9.65771965e-03 -9.65771965e-03 -9.48932626e-03 ...  1.36375124e-04\n",
            "   2.08517853e-05 -2.94825171e-03]\n",
            " [ 1.24432335e-02  1.24432335e-02  2.18059505e-03 ... -5.92644115e-05\n",
            "  -2.24902973e-05  1.06765926e-03]\n",
            " ...\n",
            " [-8.17269621e-03 -8.17269621e-03 -5.84896903e-03 ...  1.28184261e-04\n",
            "   6.06395143e-05 -1.84761531e-03]\n",
            " [-1.56263474e-02 -1.56263474e-02  2.54424472e-03 ... -1.18491366e-04\n",
            "  -9.67153521e-05  9.74842113e-04]\n",
            " [ 1.49188223e-02  1.49188223e-02  2.08901504e-02 ...  9.68569732e-05\n",
            "   4.10405361e-05 -3.52902280e-04]]\n",
            "Residual Error = 280.6310026217682\n"
          ]
        }
      ],
      "source": [
        "from numpy.linalg import norm\n",
        "from scipy.linalg import svd\n",
        "\n",
        "residual_errors = []\n",
        "for k in range(1, 11):\n",
        "    U, Sigma, VT = svd(Y, full_matrices=False)\n",
        "    Uk = U[:, :k]\n",
        "    Sk = np.diag(Sigma[:k])\n",
        "    VTk = VT[:k, :]\n",
        "\n",
        "    Y_approx = Uk @ Sk @ VTk  # Top-k SVD approximation\n",
        "    residual = norm(Y - Y_approx)  # Residual error\n",
        "    residual_errors.append(residual)\n",
        "    print(\"k =\", k)\n",
        "    print(\"U =\", Uk)\n",
        "    print(\"Sigma =\", Sk)\n",
        "    print(\"VT =\", VTk)\n",
        "    print(\"Residual Error =\", residual)"
      ]
    },
    {
      "cell_type": "markdown",
      "metadata": {
        "id": "EDuJ2L1kOKGr"
      },
      "source": [
        "#### b) Plot the residual error as a function of $k$.\n",
        "What do you observe? Would you say the top $k$ SVD is a good approximation?  For what $k$?"
      ]
    },
    {
      "cell_type": "code",
      "execution_count": null,
      "metadata": {
        "colab": {
          "base_uri": "https://localhost:8080/",
          "height": 487
        },
        "id": "tk70YC_POKGr",
        "outputId": "08b8476d-7232-4354-db73-4d2c613dd0ee"
      },
      "outputs": [
        {
          "output_type": "display_data",
          "data": {
            "text/plain": [
              "<Figure size 1000x500 with 1 Axes>"
            ],
            "image/png": "[encoded data removed]"
          },
          "metadata": {}
        }
      ],
      "source": [
        "k_values = list(range(1, 11))\n",
        "plt.figure(figsize=(10, 5))\n",
        "plt.plot(k_values, residual_errors, marker='o')\n",
        "plt.title('Residual Error of Top k SVD')\n",
        "plt.xlabel('k')\n",
        "plt.ylabel('Residual Error')\n",
        "plt.grid(True)\n",
        "plt.show()"
      ]
    },
    {
      "cell_type": "markdown",
      "source": [
        "With k increasing, residual error declines, but the decline slows down, suggesting that each additional singular value contributes less to reducing the approximation error.\n",
        "\n",
        "k=8 may be a good choice, because at this time the residual error seems to flatten slightly, indicating that further increases in k have minimal impact on improving the approximation.\n",
        "\n",
        "The top-k SVD appears to be a good approximation particularly when k is between 4 and 7, as the most substantial reduction in error occurs in this range. Choosing a k value in this range provides a balance between accuracy (low residual error) and efficiency (not too large k). The exact choice might depend on specific needs regarding computational resources and the acceptable level of approximation error."
      ],
      "metadata": {
        "id": "Am1qupRHUY80"
      }
    },
    {
      "cell_type": "markdown",
      "metadata": {
        "id": "ysLSfuS0OKGs"
      },
      "source": [
        "#### c) Alternating minimization\n",
        "\n",
        "Set $k=10$. Generate a random starting matrix $W \\in \\mathbb{R}^{k \\times d}$ with `np.random.randn`. Use least squares to solve\n",
        "$$ \\text{minimize}\\quad\\|Y - XW\\|_F^2 $$\n",
        "for $X$. Now fix that $X$ and use least squares to solve for $W$. Repeat this 10 times (ie, 10 solves each for $X$ and $W$). (Cache the Gram matrix for each least squares problem for a faster solve!)"
      ]
    },
    {
      "cell_type": "code",
      "source": [
        "from numpy.linalg import inv\n",
        "\n",
        "k = 10\n",
        "n, d = Y.shape\n",
        "W = np.random.randn(k, d)\n",
        "\n",
        "def alternating_least_squares(Y, W, k, iterations=10):\n",
        "    X = np.random.randn(n, k)\n",
        "    for _ in range(iterations):\n",
        "        Gram_X = X.T @ X\n",
        "        W = inv(Gram_X) @ X.T @ Y\n",
        "        Gram_W = W @ W.T\n",
        "        if np.linalg.det(Gram_W) != 0:\n",
        "          X = Y @ W.T @ np.linalg.inv(Gram_W)\n",
        "        else:\n",
        "          X = Y @ W.T @ np.linalg.pinv(Gram_W)\n",
        "\n",
        "    return X, W\n",
        "X_final, W_final = alternating_least_squares(Y, W, k)\n",
        "\n",
        "print(\"Final W matrix:\")\n",
        "print(W_final)"
      ],
      "metadata": {
        "colab": {
          "base_uri": "https://localhost:8080/"
        },
        "id": "bY-Adb30Fokb",
        "outputId": "9b003453-56e1-4bf9-e2be-867fbda62c24"
      },
      "execution_count": null,
      "outputs": [
        {
          "output_type": "stream",
          "name": "stdout",
          "text": [
            "Final W matrix:\n",
            "[[-5.30436102e-01 -5.30436102e-01  2.46282958e-02 ... -7.28393906e-04\n",
            "  -2.68293638e-04  1.21062676e-02]\n",
            " [ 3.60057023e-01  3.60057023e-01 -7.16495563e-02 ...  1.84039066e-03\n",
            "   7.43632900e-04 -3.17188255e-02]\n",
            " [-6.51282170e-01 -6.51282170e-01 -5.37139201e-02 ...  1.08491904e-03\n",
            "   2.18819587e-04 -2.48235201e-02]\n",
            " ...\n",
            " [-1.44893961e+00 -1.44893961e+00 -5.21045598e-02 ...  8.80479331e-04\n",
            "   1.43998536e-04 -2.09094566e-02]\n",
            " [-6.79446930e-01 -6.79446930e-01  2.94650202e-02 ... -1.44386212e-03\n",
            "  -8.85966914e-04  1.72248629e-02]\n",
            " [-6.98973186e-01 -6.98973186e-01 -2.62607936e-02 ...  5.80068913e-04\n",
            "   1.84635438e-04 -1.28083811e-02]]\n"
          ]
        }
      ]
    },
    {
      "cell_type": "markdown",
      "metadata": {
        "id": "uYHQN2NLOKGs"
      },
      "source": [
        "#### d) Plot the residual error $|| Y - XW ||$ as a function of iteration."
      ]
    },
    {
      "cell_type": "code",
      "execution_count": null,
      "metadata": {
        "colab": {
          "base_uri": "https://localhost:8080/",
          "height": 487
        },
        "id": "3m79P7ZzOKGs",
        "outputId": "7ed4e580-eb92-4bcb-c226-2786b754beb0"
      },
      "outputs": [
        {
          "output_type": "display_data",
          "data": {
            "text/plain": [
              "<Figure size 1000x500 with 1 Axes>"
            ],
            "image/png": "[encoded data removed]"
          },
          "metadata": {}
        }
      ],
      "source": [
        "k = 10\n",
        "n, d = Y.shape\n",
        "W = np.random.randn(k, d)\n",
        "\n",
        "def alternating_least_squares(Y, W, k, iterations=10):\n",
        "    X = np.random.randn(n, k)\n",
        "    residual_errors = []\n",
        "\n",
        "    for _ in range(iterations):\n",
        "        Gram_X = X.T @ X\n",
        "        W = inv(Gram_X) @ X.T @ Y\n",
        "        Gram_W = W @ W.T\n",
        "        X = Y @ W.T @ inv(Gram_W)\n",
        "        residual = norm(Y - X @ W, 'fro')\n",
        "        residual_errors.append(residual)\n",
        "\n",
        "    return residual_errors\n",
        "\n",
        "residual_errors = alternating_least_squares(Y, W, k)\n",
        "\n",
        "# Plot the residual errors\n",
        "plt.figure(figsize=(10, 5))\n",
        "plt.plot(residual_errors, marker='o')\n",
        "plt.title('Residual Error ||Y - XW|| per Iteration')\n",
        "plt.xlabel('Iteration')\n",
        "plt.ylabel('Residual Error')\n",
        "plt.grid(True)\n",
        "plt.show()"
      ]
    },
    {
      "cell_type": "markdown",
      "metadata": {
        "id": "X445xS9tOKGt"
      },
      "source": [
        "#### e) How do the two methods compare?\n",
        "\n",
        "In particular, compare the residual error when $k=10$."
      ]
    },
    {
      "cell_type": "markdown",
      "source": [
        "Generally, top-k SVD will have a lower or equal residual error compared to AM when both are tasked with finding a rank-k approximation. For example, when k = 10, the residual error of top-k SVD is a little bit smaller than that of ALS. This is due to the optimality properties of SVD in terms of minimizing the Frobenius norm. AM might not converge to the global minimum and is sensitive to the initial values of X and W.\n",
        "However, SVD is computationally intensive, especially for large matrices. AM can be more efficient in cases where the data is sparse or when only a few iterations are run, as it doesn't require computation of the entire eigenspace.\n",
        "\n"
      ],
      "metadata": {
        "id": "FQb7bAXJkBMJ"
      }
    },
    {
      "cell_type": "markdown",
      "metadata": {
        "id": "4bmBOIg3OKGt"
      },
      "source": [
        "#### f) PCA on the full dataset (approximately)\n",
        "\n",
        "Ideally, we would like to apply PCA to the full dataset, but even the small subset takes a while.\n",
        "\n",
        "In the AM method, $W$ has as many columns as $Y$, while $X$ has as many rows as $Y$. The full dataset has more rows, so we could fix the same $W$ we derived for the small dataset, and use this to find $X_\\text{full}$ for the full dataset by solving\n",
        "$$\\text{minimize}  \\|Y_\\text{full} - X_\\text{full} W\\|_F^2 $$\n",
        "with variable $X$.\n",
        "That is, we fix $W$ and take one more step of AM (using $Y_\\text{full}$) to compute $X_{full}$.\n",
        "\n",
        "How does the new average residual error per row compare to the previous average residual error per row?"
      ]
    },
    {
      "cell_type": "code",
      "execution_count": null,
      "metadata": {
        "colab": {
          "base_uri": "https://localhost:8080/"
        },
        "id": "7B4kOMhqOKGt",
        "outputId": "966b8085-a672-4a79-c7df-212ec031fa01"
      },
      "outputs": [
        {
          "output_type": "stream",
          "name": "stdout",
          "text": [
            "Average Residual Error per Row (Full Dataset): 643.043692451767\n"
          ]
        }
      ],
      "source": [
        "n_full, d_full = Y_full.shape\n",
        "Gram_W = W @ W.T\n",
        "inv_Gram_W = inv(Gram_W) if np.linalg.det(Gram_W) != 0 else np.linalg.pinv(Gram_W)\n",
        "X_full = Y_full @ W.T @ inv_Gram_W\n",
        "\n",
        "residual_error_full = norm(Y_full - X_full @ W, 'fro')\n",
        "average_residual_error_per_row = residual_error_full / n_full\n",
        "print(\"Average Residual Error per Row (Full Dataset):\", average_residual_error_per_row)"
      ]
    },
    {
      "cell_type": "markdown",
      "source": [
        "The new average residual error is larger than the previous one. It may indicate that W matrix, while suitable for the smaller subset, does not capture all the variances effectively for the full dataset, possibly due to overfitting to the smaller subset or because the full dataset contains additional variations not captured in the smaller subset."
      ],
      "metadata": {
        "id": "PQdVbpQ6nyV4"
      }
    }
  ],
  "metadata": {
    "@webio": {
      "lastCommId": null,
      "lastKernelId": null
    },
    "kernelspec": {
      "display_name": "Python 3",
      "language": "python",
      "name": "python3"
    },
    "language_info": {
      "codemirror_mode": {
        "name": "ipython",
        "version": 3
      },
      "file_extension": ".py",
      "mimetype": "text/x-python",
      "name": "python",
      "nbconvert_exporter": "python",
      "pygments_lexer": "ipython3",
      "version": "3.8.8"
    },
    "colab": {
      "provenance": []
    }
  },
  "nbformat": 4,
  "nbformat_minor": 0
}